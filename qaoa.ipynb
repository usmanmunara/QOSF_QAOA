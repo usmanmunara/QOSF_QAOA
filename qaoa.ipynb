{
 "cells": [
  {
   "cell_type": "code",
   "execution_count": 3,
   "metadata": {},
   "outputs": [
    {
     "ename": "ModuleNotFoundError",
     "evalue": "No module named 'pyquil'",
     "output_type": "error",
     "traceback": [
      "\u001b[1;31m---------------------------------------------------------------------------\u001b[0m",
      "\u001b[1;31mModuleNotFoundError\u001b[0m                       Traceback (most recent call last)",
      "\u001b[1;32m<ipython-input-3-68c9d779f7f2>\u001b[0m in \u001b[0;36m<module>\u001b[1;34m\u001b[0m\n\u001b[0;32m      2\u001b[0m \u001b[1;32mimport\u001b[0m \u001b[0mnetworkx\u001b[0m \u001b[1;32mas\u001b[0m \u001b[0mnx\u001b[0m\u001b[1;33m\u001b[0m\u001b[1;33m\u001b[0m\u001b[0m\n\u001b[0;32m      3\u001b[0m \u001b[1;32mimport\u001b[0m \u001b[0mmatplotlib\u001b[0m\u001b[1;33m.\u001b[0m\u001b[0mpyplot\u001b[0m \u001b[1;32mas\u001b[0m \u001b[0mplt\u001b[0m\u001b[1;33m\u001b[0m\u001b[1;33m\u001b[0m\u001b[0m\n\u001b[1;32m----> 4\u001b[1;33m \u001b[1;32mfrom\u001b[0m \u001b[0mpyquil\u001b[0m\u001b[1;33m.\u001b[0m\u001b[0mapi\u001b[0m \u001b[1;32mimport\u001b[0m \u001b[0mWavefunctionSimulator\u001b[0m\u001b[1;33m\u001b[0m\u001b[1;33m\u001b[0m\u001b[0m\n\u001b[0m\u001b[0;32m      5\u001b[0m \u001b[1;32mfrom\u001b[0m \u001b[0mgrove\u001b[0m\u001b[1;33m.\u001b[0m\u001b[0mpyqaoa\u001b[0m\u001b[1;33m.\u001b[0m\u001b[0mmaxcut_qaoa\u001b[0m \u001b[1;32mimport\u001b[0m \u001b[0mmaxcut_qaoa\u001b[0m\u001b[1;33m\u001b[0m\u001b[1;33m\u001b[0m\u001b[0m\n",
      "\u001b[1;31mModuleNotFoundError\u001b[0m: No module named 'pyquil'"
     ]
    }
   ],
   "source": [
    "import numpy as np\n",
    "import networkx as nx\n",
    "import matplotlib.pyplot as plt \n",
    "from pyquil.api import WavefunctionSimulator\n",
    "from grove.pyqaoa.maxcut_qaoa import maxcut_qaoa"
   ]
  },
  {
   "cell_type": "code",
   "execution_count": null,
   "metadata": {},
   "outputs": [],
   "source": [
    "# Generating a butterfly graph using NetworkX\n",
    "n = 5\n",
    "E =[(0,1,1.0),(0,2,1.0),(1,2,1.0),(3,2,1.0),(3,4,1.0),(4,2,1.0)] \n",
    "\n",
    "weighted_graph = nx.Graph()\n",
    "weighted_graph.add_weighted_edges_from(E)\n",
    "\n",
    "# Generate plot of the Graph\n",
    "colors       = ['r' for node in weighted_graph.nodes()]\n",
    "default_axes = plt.axes(frameon=True)\n",
    "pos          = nx.spring_layout(weighted_graph)\n",
    "\n",
    "nx.draw_networkx(weighted_graph, node_color=colors, node_size=600, alpha=1, ax=default_axes, pos=pos)\n",
    "\n",
    "# square_ring = [(0,1),(1,2),(2,3),(3,0)]"
   ]
  },
  {
   "cell_type": "code",
   "execution_count": 2,
   "metadata": {},
   "outputs": [
    {
     "ename": "NameError",
     "evalue": "name 'maxcut_qaoa' is not defined",
     "output_type": "error",
     "traceback": [
      "\u001b[1;31m---------------------------------------------------------------------------\u001b[0m",
      "\u001b[1;31mNameError\u001b[0m                                 Traceback (most recent call last)",
      "\u001b[1;32m<ipython-input-2-20cd896bd546>\u001b[0m in \u001b[0;36m<module>\u001b[1;34m\u001b[0m\n\u001b[0;32m      1\u001b[0m \u001b[0msteps\u001b[0m \u001b[1;33m=\u001b[0m \u001b[1;36m1\u001b[0m\u001b[1;33m\u001b[0m\u001b[1;33m\u001b[0m\u001b[0m\n\u001b[1;32m----> 2\u001b[1;33m \u001b[0minst\u001b[0m \u001b[1;33m=\u001b[0m \u001b[0mmaxcut_qaoa\u001b[0m\u001b[1;33m(\u001b[0m\u001b[0mweighted_graph\u001b[0m\u001b[1;33m,\u001b[0m\u001b[0mlen\u001b[0m\u001b[1;33m(\u001b[0m\u001b[0mweighted_graph\u001b[0m\u001b[1;33m.\u001b[0m\u001b[0mnodes\u001b[0m\u001b[1;33m(\u001b[0m\u001b[1;33m)\u001b[0m\u001b[1;33m)\u001b[0m\u001b[1;33m,\u001b[0m \u001b[0msteps\u001b[0m\u001b[1;33m=\u001b[0m\u001b[0msteps\u001b[0m\u001b[1;33m)\u001b[0m\u001b[1;33m\u001b[0m\u001b[1;33m\u001b[0m\u001b[0m\n\u001b[0m\u001b[0;32m      3\u001b[0m \u001b[0mopt_betas\u001b[0m\u001b[1;33m,\u001b[0m \u001b[0mopt_gammas\u001b[0m \u001b[1;33m=\u001b[0m \u001b[0minst\u001b[0m\u001b[1;33m.\u001b[0m\u001b[0mget_angles\u001b[0m\u001b[1;33m(\u001b[0m\u001b[1;33m)\u001b[0m\u001b[1;33m\u001b[0m\u001b[1;33m\u001b[0m\u001b[0m\n",
      "\u001b[1;31mNameError\u001b[0m: name 'maxcut_qaoa' is not defined"
     ]
    }
   ],
   "source": [
    "steps = 1\n",
    "inst = maxcut_qaoa(weighted_graph,len(weighted_graph.nodes()), steps=steps)\n",
    "opt_betas, opt_gammas = inst.get_angles()"
   ]
  },
  {
   "cell_type": "code",
   "execution_count": 17,
   "metadata": {},
   "outputs": [],
   "source": [
    "t = np.hstack((opt_betas, opt_gammas))\n",
    "param_prog = inst.get_parameterized_program()\n",
    "prog = param_prog(t)\n",
    "wf = WavefunctionSimulator().wavefunction(prog)\n",
    "wf = wf.amplitudes"
   ]
  },
  {
   "cell_type": "code",
   "execution_count": 18,
   "metadata": {},
   "outputs": [
    {
     "name": "stdout",
     "output_type": "stream",
     "text": [
      "00000 (0.004527171655787698+0j)\n",
      "00001 (0.00010791240108205322+0j)\n",
      "00010 (0.0001079124010820542+0j)\n",
      "00011 (0.004186323417189738+0j)\n",
      "00100 (0.04279980682987988+0j)\n",
      "00101 (0.055483590634453024+0j)\n",
      "00110 (0.055483590634453+0j)\n",
      "00111 (0.004186323417189746+0j)\n",
      "01000 (0.00010791240108205368+0j)\n",
      "01001 (0.055483590634453024+0j)\n",
      "01010 (0.055483590634452996+0j)\n",
      "01011 (0.055483590634453+0j)\n",
      "01100 (0.05548359063445306+0j)\n",
      "01101 (0.055483590634453045+0j)\n",
      "01110 (0.055483590634453+0j)\n",
      "01111 (0.00010791240108205462+0j)\n",
      "10000 (0.00010791240108205462+0j)\n",
      "10001 (0.055483590634453+0j)\n",
      "10010 (0.055483590634453045+0j)\n",
      "10011 (0.05548359063445306+0j)\n",
      "10100 (0.055483590634453+0j)\n",
      "10101 (0.055483590634452996+0j)\n",
      "10110 (0.055483590634453024+0j)\n",
      "10111 (0.00010791240108205368+0j)\n",
      "11000 (0.004186323417189746+0j)\n",
      "11001 (0.055483590634453+0j)\n",
      "11010 (0.055483590634453024+0j)\n",
      "11011 (0.04279980682987988+0j)\n",
      "11100 (0.004186323417189738+0j)\n",
      "11101 (0.0001079124010820542+0j)\n",
      "11110 (0.00010791240108205322+0j)\n",
      "11111 (0.004527171655787698+0j)\n"
     ]
    }
   ],
   "source": [
    "for state_index in range(inst.nstates):\n",
    "    print(inst.states[state_index], np.conj(wf[state_index]) * wf[state_index])"
   ]
  },
  {
   "cell_type": "code",
   "execution_count": null,
   "metadata": {},
   "outputs": [],
   "source": []
  },
  {
   "cell_type": "code",
   "execution_count": null,
   "metadata": {},
   "outputs": [],
   "source": []
  }
 ],
 "metadata": {
  "kernelspec": {
   "display_name": "Python 3",
   "language": "python",
   "name": "python3"
  },
  "language_info": {
   "codemirror_mode": {
    "name": "ipython",
    "version": 3
   },
   "file_extension": ".py",
   "mimetype": "text/x-python",
   "name": "python",
   "nbconvert_exporter": "python",
   "pygments_lexer": "ipython3",
   "version": "3.7.6-final"
  }
 },
 "nbformat": 4,
 "nbformat_minor": 4
}