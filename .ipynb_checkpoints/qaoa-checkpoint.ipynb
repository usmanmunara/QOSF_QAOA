{
 "cells": [
  {
   "cell_type": "code",
   "execution_count": 3,
   "metadata": {},
   "outputs": [],
   "source": [
    "import numpy as np\n",
    "import networkx as nx\n",
    "import matplotlib.pyplot as plt \n",
    "from pyquil.api import WavefunctionSimulator\n",
    "from grove.pyqaoa.maxcut_qaoa import maxcut_qaoa"
   ]
  },
  {
   "cell_type": "code",
   "execution_count": 15,
   "metadata": {},
   "outputs": [
    {
     "data": {
      "image/png": "[encoded data removed]",
      "text/plain": [
       "<Figure size 432x288 with 1 Axes>"
      ]
     },
     "metadata": {},
     "output_type": "display_data"
    }
   ],
   "source": [
    "# Generating a butterfly graph using NetworkX\n",
    "n = 5\n",
    "E =[(0,1,1.0),(0,2,1.0),(1,2,1.0),(3,2,1.0),(3,4,1.0),(4,2,1.0)] \n",
    "\n",
    "weighted_graph = nx.Graph()\n",
    "weighted_graph.add_weighted_edges_from(E)\n",
    "\n",
    "# Generate plot of the Graph\n",
    "colors       = ['r' for node in weighted_graph.nodes()]\n",
    "default_axes = plt.axes(frameon=True)\n",
    "pos          = nx.spring_layout(weighted_graph)\n",
    "\n",
    "nx.draw_networkx(weighted_graph, node_color=colors, node_size=600, alpha=1, ax=default_axes, pos=pos)\n",
    "\n",
    "# square_ring = [(0,1),(1,2),(2,3),(3,0)]"
   ]
  },
  {
   "cell_type": "code",
   "execution_count": 16,
   "metadata": {},
   "outputs": [
    {
     "name": "stdout",
     "output_type": "stream",
     "text": [
      "0 1 1.0\n",
      "0 2 1.0\n",
      "1 2 1.0\n",
      "2 3 1.0\n",
      "2 4 1.0\n",
      "3 4 1.0\n",
      "WARNING: Fast method for expectation will be used. Noise\n",
      "                     models will be ineffective\n",
      "\tParameters: [1.25695464 6.05809289] \n",
      "\tE => 8.187121812100871\n",
      "\tParameters: [1.25695464 6.05809289] \n",
      "\tE => 7.255886587187504\n",
      "\tParameters: [1.22328621 6.02203282] \n",
      "\tE => 7.170588896173419\n",
      "\tParameters: [1.24105566 5.97695772] \n",
      "\tE => 7.148197139522365\n",
      "\tParameters: [1.24105566 5.97695772] \n",
      "\tE => 7.17449636984521\n",
      "\tParameters: [1.24105566 5.97695772] \n",
      "\tE => 7.155201090106474\n",
      "\tParameters: [1.24105566 5.97695772] \n",
      "\tE => 7.150133823134916\n",
      "\tParameters: [1.24348143 5.99357916] \n",
      "\tE => 7.14341672820786\n",
      "\tParameters: [1.24348143 5.99357916] \n",
      "\tE => 7.145484664397878\n",
      "\tParameters: [1.25162819 5.99379045] \n",
      "\tE => 7.147789874112443\n",
      "\tParameters: [1.24837862 5.98542691] \n",
      "\tE => 7.14286911800226\n"
     ]
    }
   ],
   "source": [
    "steps = 1\n",
    "inst = maxcut_qaoa(weighted_graph, steps=steps)\n",
    "opt_betas, opt_gammas = inst.get_angles()"
   ]
  },
  {
   "cell_type": "code",
   "execution_count": 17,
   "metadata": {},
   "outputs": [],
   "source": [
    "t = np.hstack((opt_betas, opt_gammas))\n",
    "param_prog = inst.get_parameterized_program()\n",
    "prog = param_prog(t)\n",
    "wf = WavefunctionSimulator().wavefunction(prog)\n",
    "wf = wf.amplitudes"
   ]
  },
  {
   "cell_type": "code",
   "execution_count": 18,
   "metadata": {},
   "outputs": [
    {
     "name": "stdout",
     "output_type": "stream",
     "text": [
      "00000 (0.004527171655787698+0j)\n",
      "00001 (0.00010791240108205322+0j)\n",
      "00010 (0.0001079124010820542+0j)\n",
      "00011 (0.004186323417189738+0j)\n",
      "00100 (0.04279980682987988+0j)\n",
      "00101 (0.055483590634453024+0j)\n",
      "00110 (0.055483590634453+0j)\n",
      "00111 (0.004186323417189746+0j)\n",
      "01000 (0.00010791240108205368+0j)\n",
      "01001 (0.055483590634453024+0j)\n",
      "01010 (0.055483590634452996+0j)\n",
      "01011 (0.055483590634453+0j)\n",
      "01100 (0.05548359063445306+0j)\n",
      "01101 (0.055483590634453045+0j)\n",
      "01110 (0.055483590634453+0j)\n",
      "01111 (0.00010791240108205462+0j)\n",
      "10000 (0.00010791240108205462+0j)\n",
      "10001 (0.055483590634453+0j)\n",
      "10010 (0.055483590634453045+0j)\n",
      "10011 (0.05548359063445306+0j)\n",
      "10100 (0.055483590634453+0j)\n",
      "10101 (0.055483590634452996+0j)\n",
      "10110 (0.055483590634453024+0j)\n",
      "10111 (0.00010791240108205368+0j)\n",
      "11000 (0.004186323417189746+0j)\n",
      "11001 (0.055483590634453+0j)\n",
      "11010 (0.055483590634453024+0j)\n",
      "11011 (0.04279980682987988+0j)\n",
      "11100 (0.004186323417189738+0j)\n",
      "11101 (0.0001079124010820542+0j)\n",
      "11110 (0.00010791240108205322+0j)\n",
      "11111 (0.004527171655787698+0j)\n"
     ]
    }
   ],
   "source": [
    "for state_index in range(inst.nstates):\n",
    "    print(inst.states[state_index], np.conj(wf[state_index]) * wf[state_index])"
   ]
  },
  {
   "cell_type": "code",
   "execution_count": null,
   "metadata": {},
   "outputs": [],
   "source": []
  },
  {
   "cell_type": "code",
   "execution_count": null,
   "metadata": {},
   "outputs": [],
   "source": []
  }
 ],
 "metadata": {
  "kernelspec": {
   "display_name": "Python 3",
   "language": "python",
   "name": "python3"
  },
  "language_info": {
   "codemirror_mode": {
    "name": "ipython",
    "version": 3
   },
   "file_extension": ".py",
   "mimetype": "text/x-python",
   "name": "python",
   "nbconvert_exporter": "python",
   "pygments_lexer": "ipython3",
   "version": "3.7.6"
  }
 },
 "nbformat": 4,
 "nbformat_minor": 4
}
